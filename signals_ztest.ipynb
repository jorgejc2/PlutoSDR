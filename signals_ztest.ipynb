{
 "cells": [
  {
   "cell_type": "code",
   "execution_count": null,
   "metadata": {},
   "outputs": [],
   "source": [
    "# imports\n",
    "import numpy as np\n",
    "import os\n",
    "import matplotlib.pyplot as plt\n",
    "from math import sqrt\n",
    "from rbtree import RedBlackTree\n",
    "from IPython.display import Image\n",
    "\n",
    "# allows plots to display in the notebook instead of another window\n",
    "%matplotlib inline"
   ]
  },
  {
   "cell_type": "code",
   "execution_count": null,
   "metadata": {},
   "outputs": [],
   "source": [
    "# configurations\n",
    "rxlo = 914  # center frequency\n",
    "rxfs = 40  # sampling rate in megasamples/second\n",
    "rxbw = 40  # bw in MHz\n",
    "buf_size = (rxfs * 1e6)/10  # 100 ms of a full second of samples\n",
    "psd_len = 0  # a power of 2 that holds spectrum obtain from welch's method\n",
    "\n",
    "f = np.linspace(-(rxfs/2), (rxfs/2), psd_len)  # frequency in Hz\n",
    "f = (f + rxlo) / 1e6\n",
    "\n",
    "threshold = 0  # threshold signals need to meet to be considered relevant\n",
    "\n",
    "sets = np.emtpy(())\n",
    "mean = np.emtpy(())\n",
    "\n",
    "freq_tree = RedBlackTree()"
   ]
  },
  {
   "cell_type": "code",
   "execution_count": null,
   "metadata": {},
   "outputs": [],
   "source": [
    "# get data from iq files\n",
    "path = str(os.path.dirname(os.path.realpath(__file__)))\n",
    "dir_list = os.listdir(path)"
   ]
  },
  {
   "cell_type": "markdown",
   "metadata": {},
   "source": [
    "A red black tree is used to find new frequencies and compare them to existing ones in O(nlogn). For future considerations, everytime a frequency is matched in the RBTree, readjust the key value by averaging. This should be paired with a script that uses and ADALM-PLUTO device that collects samples and saves them to iq data points.\n",
    "\n",
    "As of right now, the bottom code needs to be refined and will not currently work, but the basic concepts are still there. \n",
    "\n",
    "Link explaining more about the ztest and some formulas...\n",
    "http://homework.uoregon.edu/pub/class/es202/ztest.html"
   ]
  },
  {
   "cell_type": "markdown",
   "metadata": {},
   "source": [
    "![title](assets/ztest_overview.png)"
   ]
  },
  {
   "cell_type": "code",
   "execution_count": null,
   "metadata": {},
   "outputs": [],
   "source": [
    "# start comparing signals from iq files and use z test to place them in the right node\n",
    "for i in range(len(dir_list)):\n",
    "    file = dir_list[i]\n",
    "    sets[i] = np.fromfile(path + file, np.float32)\n",
    "    mean[i] = f[np.argmax(sets[i])]\n",
    "    indices = np.where(sets[i] > threshold)[0]\n",
    "    num_datapts[i] = len(indices)\n",
    "    sum = 0\n",
    "    if len(indices) > 0:\n",
    "        for j in range(len(indices)):\n",
    "            idx = indicies[j]\n",
    "            sum += abs(mean[i] - f[idx])**2\n",
    "        std_dev[i] = sqrt(sum/len(indices))\n",
    "        if i > 0:\n",
    "            x1 = mean[0]\n",
    "            x2 = mean[i]\n",
    "            omega1 = std_dev[0]/sqrt(num_datapts[0])\n",
    "            omega2 = std_dev[i]/sqrt(num_datapts[i])\n",
    "            z_vals[i-1] = (abs(x1-x2)/sqrt(omega1 ** 2 + omega2 ** 2))"
   ]
  }
 ],
 "metadata": {
  "kernelspec": {
   "display_name": "Python 3.10.5 64-bit (windows store)",
   "language": "python",
   "name": "python3"
  },
  "language_info": {
   "codemirror_mode": {
    "name": "ipython",
    "version": 3
   },
   "file_extension": ".py",
   "mimetype": "text/x-python",
   "name": "python",
   "nbconvert_exporter": "python",
   "pygments_lexer": "ipython3",
   "version": "3.10.6"
  },
  "orig_nbformat": 4,
  "vscode": {
   "interpreter": {
    "hash": "37172612cffb9069e2fca8c386a287ab06b32db449b42f4cdaafc89bac91ccb7"
   }
  }
 },
 "nbformat": 4,
 "nbformat_minor": 2
}
