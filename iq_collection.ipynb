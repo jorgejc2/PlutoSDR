{
 "cells": [
  {
   "cell_type": "markdown",
   "metadata": {},
   "source": [
    "imports"
   ]
  },
  {
   "cell_type": "code",
   "execution_count": 1,
   "metadata": {},
   "outputs": [],
   "source": [
    "import numpy as np\n",
    "import matplotlib.pyplot as plt\n",
    "from scipy import signal\n",
    "from time import sleep\n",
    "from basicsignalnoise_welch import signal_generator\n",
    "from math import sqrt\n",
    "from rbtree import RedBlackTree, Node\n",
    "import os\n",
    "import json"
   ]
  },
  {
   "cell_type": "code",
   "execution_count": 2,
   "metadata": {},
   "outputs": [],
   "source": [
    "\"\"\" \n",
    "Only run this if your Pluto SDR is completely configured and you have installed the necessary libraries.\n",
    "For help setting up your Pluto SDR or setting up libraries, go to the end of this notebook.\n",
    "\"\"\"\n",
    "from pluto_lib import PlutoSDR"
   ]
  },
  {
   "cell_type": "code",
   "execution_count": 3,
   "metadata": {},
   "outputs": [],
   "source": [
    "#allosws plots to display in a separate window instead of in the notebook\n",
    "# requires 'python -m pip install PyQt5'\n",
    "%matplotlib qt"
   ]
  },
  {
   "cell_type": "code",
   "execution_count": 4,
   "metadata": {},
   "outputs": [],
   "source": [
    "#allows plots to display in the notebook instead of another window\n",
    "%matplotlib inline"
   ]
  },
  {
   "cell_type": "markdown",
   "metadata": {},
   "source": [
    "Initialization"
   ]
  },
  {
   "cell_type": "code",
   "execution_count": 5,
   "metadata": {},
   "outputs": [],
   "source": [
    "# configurations\n",
    "rxlo = 914  # center frequency\n",
    "rxfs = 40  # sampling rate in megasamples/second\n",
    "RXFS = int(40 * 1e6)\n",
    "rxbw = 40  # bw in MHz\n",
    "buf_size = int((rxfs * 1e6)/10)  # 100 ms of a full second of samples\n",
    "psd_len = 1024  # a power of 2 that holds spectrum obtain from welch's method\n",
    "frames = 500\n",
    "frame_duration = 0.1  # how much time a frame should be in seconds\n",
    "\n",
    "f = np.linspace(-(rxfs/2), (rxfs/2), psd_len)  # frequency in Hz\n",
    "f = (f + rxlo) / 1e6\n",
    "\n",
    "base_threshold = -55  # threshold signals need to meet to be considered relevant\n",
    "significance_threshold = base_threshold\n",
    "\n",
    "raw_data_memory = 0\n",
    "packaged_data_memory = 0\n",
    "\n",
    "config = {\n",
    "    'rxlo [MHz]': int(rxlo),\n",
    "    'rxfs [ms/s]': int(rxfs),\n",
    "    'rxbw [MHz]': int(rxbw),\n",
    "    'buffer size': int(buf_size),\n",
    "    'psd length': psd_len,\n",
    "    'number frames': frames,\n",
    "    'base_threshold': base_threshold,\n",
    "    'significance threshold': significance_threshold\n",
    "}\n",
    "\n",
    "samples = np.empty((frames, psd_len), dtype=np.float32)\n",
    "\n",
    "save_directory = os.getcwd() + '/iq_data'\n",
    "os.makedirs(save_directory, exist_ok=True)  # create a directory for the iq data"
   ]
  },
  {
   "cell_type": "markdown",
   "metadata": {},
   "source": [
    "The two code sections below utilize different ways of gathering iq samples. The first way is using an actual Pluto SDR. If using the first method, make sure the Pluto SDR is configured correctly. Instructions on how to configure it can be found at the end of this notebook. If you do not have a Pluto SDR on hand, make sure to run the second code block which generates fake signals so that you can still see how I packaged iq samples and performed a z test to compare and characterize signals. "
   ]
  },
  {
   "cell_type": "markdown",
   "metadata": {},
   "source": [
    "This code uses threading to collect samples "
   ]
  },
  {
   "cell_type": "code",
   "execution_count": null,
   "metadata": {},
   "outputs": [],
   "source": []
  },
  {
   "cell_type": "markdown",
   "metadata": {},
   "source": [
    "This code generates fake samples in the case a Pluto SDR is not available in order to still demonstrate how information is saved"
   ]
  },
  {
   "cell_type": "code",
   "execution_count": 6,
   "metadata": {},
   "outputs": [],
   "source": [
    "fake_signal = int(10 * 1e6)  # fake signal to generate in MHz\n",
    "_, iq_data = signal_generator([fake_signal], frame_duration, RXFS)\n",
    "_, empty_data = signal_generator([], frame_duration, RXFS)\n",
    "_, psd = signal.welch(iq_data, RXFS, 'hamming', psd_len, return_onesided=False, scaling='density', average='median')\n",
    "psd_dB = np.fft.fftshift(10*np.log10((np.abs(psd)/psd.shape[0])**2)) + 150  # small miscalculation I made requiring an offset to correct the graph\n",
    "for i in range(frames):\n",
    "    samples[i] = psd_dB\n",
    "    max_sample = np.max(psd_dB)\n",
    "    if max_sample > significance_threshold:\n",
    "        significance_threshold = max_sample\n",
    "significance_threshold *= 0.75\n",
    "indices = np.where(samples > base_threshold)\n",
    "\n",
    "x_indices = indices[0]\n",
    "y_indices = indices[1]\n",
    "x_indices.tofile(save_directory + '/x_indices.iq')\n",
    "y_indices.tofile(save_directory + '/y_indices.iq')\n",
    "samples[indices].tofile(save_directory + '/iq_data.iq')\n",
    "\n",
    "raw_data_memory = samples.size * samples.itemsize\n",
    "\n",
    "\"\"\" save the configurations as a text file \"\"\"\n",
    "with open(save_directory + '/config.txt', 'w') as config_file:\n",
    "     config_file.write(json.dumps(config, indent=4))"
   ]
  },
  {
   "cell_type": "markdown",
   "metadata": {},
   "source": [
    "Now that the samples and configurations have been saved in the **/iq_data** folder, the code below will demonstrate how those files are then used to reconstruct the data and display what's going on. Note how much data is saved by using this method. "
   ]
  },
  {
   "cell_type": "code",
   "execution_count": 7,
   "metadata": {},
   "outputs": [
    {
     "name": "stdout",
     "output_type": "stream",
     "text": [
      "raw data [bytes]: 2048000\n",
      "packaged data [bytes]: 30219\n",
      "Configuration file [bytes]: 219\n"
     ]
    }
   ],
   "source": [
    "x_indices = np.fromfile(save_directory + '/x_indices.iq', np.int64)\n",
    "y_indices = np.fromfile(save_directory + '/y_indices.iq', np.int64)\n",
    "packaged_samples = np.fromfile(save_directory + '/iq_data.iq', np.float32)\n",
    "packaged_config = {}\n",
    "with open(save_directory + '/config.txt') as config_file: \n",
    "    packaged_config = json.load(config_file)\n",
    "\n",
    "config_file_stats = os.stat(save_directory + '/config.txt')\n",
    "packaged_data_memory = (x_indices.size*x_indices.itemsize) + (y_indices.size*y_indices.itemsize) + (packaged_samples.size*packaged_samples.itemsize) + config_file_stats.st_size\n",
    "\n",
    "print(f\"raw data [bytes]: {raw_data_memory}\")\n",
    "print(f\"packaged data [bytes]: {packaged_data_memory}\")\n",
    "print(f\"Configuration file [bytes]: {config_file_stats.st_size}\")"
   ]
  },
  {
   "cell_type": "markdown",
   "metadata": {},
   "source": [
    "Generate a single spectogram"
   ]
  },
  {
   "cell_type": "code",
   "execution_count": 8,
   "metadata": {},
   "outputs": [
    {
     "data": {
      "text/plain": [
       "Text(0, 0.5, 'Time [sec]')"
      ]
     },
     "execution_count": 8,
     "metadata": {},
     "output_type": "execute_result"
    },
    {
     "data": {
      "image/png": "[encoded data removed]",
      "text/plain": [
       "<Figure size 432x288 with 1 Axes>"
      ]
     },
     "metadata": {
      "needs_background": "light"
     },
     "output_type": "display_data"
    }
   ],
   "source": [
    "reconstructed_samples = np.zeros((frames, psd_len), dtype=np.float32)\n",
    "reconstructed_samples += base_threshold\n",
    "for i in range(len(x_indices)):\n",
    "    reconstructed_samples[int(x_indices[i])][int(y_indices[i])] = packaged_samples[i]\n",
    "plt.imshow(reconstructed_samples, aspect='auto', extent=[-rxfs/2, rxfs/2, 0, 0.1 * frames])\n",
    "plt.xlabel('Frequency [MHz]')\n",
    "plt.ylabel('Time [sec]')"
   ]
  },
  {
   "cell_type": "code",
   "execution_count": 9,
   "metadata": {},
   "outputs": [
    {
     "data": {
      "text/plain": [
       "Text(0, 0.5, 'Amplitude [dB]')"
      ]
     },
     "execution_count": 9,
     "metadata": {},
     "output_type": "execute_result"
    },
    {
     "data": {
      "image/png": "[encoded data removed]",
      "text/plain": [
       "<Figure size 432x288 with 1 Axes>"
      ]
     },
     "metadata": {
      "needs_background": "light"
     },
     "output_type": "display_data"
    }
   ],
   "source": [
    "f = np.linspace(-rxfs/2, rxfs/2, psd_len)\n",
    "plt.plot(f, reconstructed_samples[0])\n",
    "plt.title(\"First Frame of Reconstructed Samples\")\n",
    "plt.xlabel(\"Frequency [MHz]\")\n",
    "plt.ylabel(\"Amplitude [dB]\")"
   ]
  },
  {
   "cell_type": "markdown",
   "metadata": {},
   "source": [
    "Now, the z-test will be used to demonstrate how treating these signals as probability distributions make it easier to easier to distinguish between newly found signals and repeatedly found signals. "
   ]
  },
  {
   "cell_type": "code",
   "execution_count": 10,
   "metadata": {},
   "outputs": [],
   "source": [
    "freq_tree = RedBlackTree()\n",
    "prev_x_idx = -1\n",
    "prev_y_idx = -1\n",
    "num_datapts = 1  # number of data points in the signal\n",
    "start_y_idx = y_indices[0]  # starting frequency index of a found signal\n",
    "for i in range(len(x_indices)):\n",
    "    \"\"\" iterate through every iq sample whose amplitude was above the base threshold in the frequency domain \"\"\"\n",
    "    curr_x_idx = x_indices[i]\n",
    "    curr_y_idx = y_indices[i]\n",
    "\n",
    "    if prev_x_idx != -1:\n",
    "        if (curr_x_idx == prev_x_idx) and (curr_y_idx == prev_y_idx + 1) and i != len(x_indices)-1:\n",
    "            \"\"\" not the last entry and still looking at the same signal \"\"\"\n",
    "            num_datapts += 1\n",
    "\n",
    "        else:\n",
    "            \"\"\" processing the last signal that was seen \"\"\"\n",
    "            if i == len(x_indices)-1:\n",
    "                \"\"\" on the last entry which means the last signal needs to be processed now \"\"\"\n",
    "                num_datapts += 1 \n",
    "                prev_x_idx = curr_x_idx\n",
    "                prev_y_idx = curr_y_idx\n",
    "\n",
    "            bw = (rxfs/psd_len) * num_datapts  # bandwidth of the signal\n",
    "            idx = np.argmax(reconstructed_samples[prev_x_idx][start_y_idx:prev_y_idx])\n",
    "            mean = f[prev_y_idx + idx]  # mean of the signal\n",
    "            amp = reconstructed_samples[prev_x_idx][start_y_idx + idx]  # peak amplitude of the signal\n",
    "\n",
    "            sum = 0  # sum of all distances between each point and the mean\n",
    "            for n in range(num_datapts):\n",
    "                sum += abs(mean - reconstructed_samples[prev_x_idx][start_y_idx + n])\n",
    "\n",
    "            std_dev = sqrt(sum/num_datapts)  # standard deviation of the signal\n",
    "\n",
    "            closest: Node = freq_tree.approximateKey(mean)  # node closest in mean value to current signal\n",
    "            if closest == freq_tree.TNULL:\n",
    "                \"\"\" tree was empty, fill it with first entry \"\"\"\n",
    "                freq_tree.insert(mean, {\n",
    "                    'std_dev': std_dev,\n",
    "                    'num_datapts': num_datapts,\n",
    "                    'bandwidth [MHz]': bw,\n",
    "                    'amplitude [dB]': amp,\n",
    "                    'occurrences': 1\n",
    "                })\n",
    "            else:\n",
    "                \"\"\" perform z test on the node closest in mean value \"\"\"\n",
    "                c_mean = closest.item\n",
    "                c_std_dev = closest.value['std_dev']\n",
    "                c_num_datapts = closest.value['num_datapts']\n",
    "                omega1 = std_dev/sqrt(num_datapts)\n",
    "                omega2 = c_std_dev/sqrt(c_num_datapts)\n",
    "                zval = abs(mean - c_mean)/sqrt(omega1 ** 2 + omega2 ** 2)\n",
    "\n",
    "                if zval > 2.5:\n",
    "                    \"\"\" z score indiciates signals are different \"\"\"\n",
    "                    freq_tree.insert(mean, {\n",
    "                    'std_dev': std_dev,\n",
    "                    'num_datapts': num_datapts,\n",
    "                    'bandwidth [MHz]': bw,\n",
    "                    'amplitude [dB]': amp,\n",
    "                    'occurrences': 1\n",
    "                })\n",
    "                else:\n",
    "                    \"\"\" the two signals are most likely the same, update values \"\"\"\n",
    "                    occurrences = closest.value['occurrences']\n",
    "                    c_amp = closest.value['amplitude [dB]']\n",
    "\n",
    "                    c_amp = (c_amp * occurrences) + amp\n",
    "                    c_mean = (c_mean * occurrences) + mean\n",
    "\n",
    "                    occurrences += 1\n",
    "\n",
    "                    c_amp = c_amp / occurrences\n",
    "                    c_mean = c_mean / occurrences\n",
    "\n",
    "                    closest.value['amplitude [dB]'] = c_amp  # update average of amplitude\n",
    "                    closest.item = c_mean  # update mean of the signal\n",
    "                    closest.value['occurrences'] = occurrences  # update numer of occurrences\n",
    "\n",
    "            \"\"\" reset basic variables for next signal \"\"\"\n",
    "            num_datapts = 1\n",
    "            start_y_idx = curr_y_idx\n",
    "\n",
    "    prev_x_idx = curr_x_idx\n",
    "    prev_y_idx = curr_y_idx\n",
    "\n",
    "tree_values = freq_tree.inorder()\n",
    "keys = freq_tree.listKeys()\n",
    "\n",
    "signals_properties = {}\n",
    "for i in range(len(keys)):\n",
    "    signals_properties[keys[i]] = tree_values[i]\n",
    "\n",
    "\"\"\" save a file of all the signals found and their characteristics \"\"\"\n",
    "with open(save_directory + '/properties.txt', 'w') as properties_file:\n",
    "     properties_file.write(json.dumps(signals_properties, indent=4))"
   ]
  },
  {
   "cell_type": "markdown",
   "metadata": {},
   "source": [
    "The final output is a text file in the **iq_data/** folder which is labeled **properties.txt**. This file contains all the unique signals found in the recorded samples, as well as their characteristics such as bandwidth and amplitude. \n",
    "\n",
    "Notice how a red black tree data structure is used to assist in finding new frequencies. I decided to utilize this data structure since in every iteration, I am comparing signals. The number of iterations/comparisons depends on how many signals were found during the period of time that iq data was being collected, but this number can become very large, quickly. \n",
    "\n",
    "In the case of the fake samples that are created, only one signal is generated over the course of 50 seconds, but 100 ms time frame windows are being converted from the time domain to the frequency domain. And since there is one signal in every time frame window, that's already 500 comparisons. Yet realistically, there can be multiple signals in one time frame window, and recording can be much longer than 50 seconds. It could potentially even be hours. Therefore the number of comparisons quickly sky rockets. It can be easy to see then why a red black tree was the data structure I chose to compare these signals. With a worst case run time of O(logn), it is much quicker than sorting the signals in a standard list for a large amount of comparisons.\n",
    "\n",
    "Note also how the z test is used to compare signals. The z test is a method of comparing two standard distributions. By knowing the mean and standard deviation of two standard distributions, you can calculte a z score which is an indicator on how similar or different two standard distributions are. By treating signals as standard distributions, I then use the z test to see how similar two signals are, and if they are not similar, then I treat the two signals being compared as unique signals. Looking at the diagram below, there are different thresholds for the z test. The threshold I chose to use was 2.5, where a score above 2.5 indidcates that two signals or standard distributions are significantlly different from each other.\n",
    "\n",
    "Link explaining more about the ztest and some formulas...\n",
    "http://homework.uoregon.edu/pub/class/es202/ztest.html"
   ]
  },
  {
   "cell_type": "markdown",
   "metadata": {},
   "source": [
    "![ztest_overview](assets/ztest_overview.png)\n",
    "</br>\n",
    "*Overview of the z test and how certain parameters are calculated*"
   ]
  },
  {
   "cell_type": "markdown",
   "metadata": {},
   "source": [
    "![ztest_thrsholds](assets/ztest_threshold.png)\n",
    "</br>\n",
    "*The different z score thresholds used to determine the correlation between two standard distributions*"
   ]
  }
 ],
 "metadata": {
  "kernelspec": {
   "display_name": "Python 3.10.6 64-bit (windows store)",
   "language": "python",
   "name": "python3"
  },
  "language_info": {
   "codemirror_mode": {
    "name": "ipython",
    "version": 3
   },
   "file_extension": ".py",
   "mimetype": "text/x-python",
   "name": "python",
   "nbconvert_exporter": "python",
   "pygments_lexer": "ipython3",
   "version": "3.10.6"
  },
  "orig_nbformat": 4,
  "vscode": {
   "interpreter": {
    "hash": "37172612cffb9069e2fca8c386a287ab06b32db449b42f4cdaafc89bac91ccb7"
   }
  }
 },
 "nbformat": 4,
 "nbformat_minor": 2
}
