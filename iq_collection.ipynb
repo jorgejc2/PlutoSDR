{
 "cells": [
  {
   "cell_type": "markdown",
   "metadata": {},
   "source": [
    "imports"
   ]
  },
  {
   "cell_type": "code",
   "execution_count": 5,
   "metadata": {},
   "outputs": [],
   "source": [
    "import numpy as np\n",
    "import matplotlib.pyplot as plt\n",
    "# from sys import argv\n",
    "from pluto_lib import PlutoSDR\n",
    "from scipy import signal\n",
    "from time import sleep\n",
    "from basicsignalnoise_welch import signal_generator\n",
    "\n",
    "#allows plots to display in the notebook instead of another window\n",
    "%matplotlib inline"
   ]
  },
  {
   "cell_type": "markdown",
   "metadata": {},
   "source": [
    "Initialization"
   ]
  },
  {
   "cell_type": "code",
   "execution_count": 13,
   "metadata": {},
   "outputs": [],
   "source": [
    "# configurations\n",
    "rxlo = 914  # center frequency\n",
    "rxfs = 40  # sampling rate in megasamples/second\n",
    "RXFS = int(40 * 1e6)\n",
    "rxbw = 40  # bw in MHz\n",
    "buf_size = (rxfs * 1e6)/10  # 100 ms of a full second of samples\n",
    "psd_len = 1024  # a power of 2 that holds spectrum obtain from welch's method\n",
    "frames = 500\n",
    "\n",
    "f = np.linspace(-(rxfs/2), (rxfs/2), psd_len)  # frequency in Hz\n",
    "f = (f + rxlo) / 1e6\n",
    "\n",
    "base_threshold = -55  # threshold signals need to meet to be considered relevant\n",
    "significance_threshold = base_threshold\n",
    "\n",
    "config = {\n",
    "    'rxlo [MHz]': int(rxlo * 1e6),\n",
    "    'rxfs [ms/s]': int(rxfs * 1e6),\n",
    "    'rxbw [MHz]': int(rxbw * 1e6),\n",
    "    'buffer size': buf_size,\n",
    "    'psd length': psd_len,\n",
    "    'number frames': frames,\n",
    "    'base_threshold': base_threshold,\n",
    "    'significance threshold': significance_threshold\n",
    "}\n",
    "\n",
    "samples = np.empty((frames, psd_len), dtype=np.float32)"
   ]
  },
  {
   "cell_type": "markdown",
   "metadata": {},
   "source": [
    "This code uses threading to collect samples "
   ]
  },
  {
   "cell_type": "code",
   "execution_count": null,
   "metadata": {},
   "outputs": [],
   "source": []
  },
  {
   "cell_type": "markdown",
   "metadata": {},
   "source": [
    "This code generates fake samples in the case a Pluto SDR is not available in order to still demonstrate how information is saved"
   ]
  },
  {
   "cell_type": "code",
   "execution_count": 18,
   "metadata": {},
   "outputs": [
    {
     "name": "stdout",
     "output_type": "stream",
     "text": [
      "-1.155044138431549\n"
     ]
    }
   ],
   "source": [
    "_, iq_data = signal_generator([10000000], 0.1, 40000000)\n",
    "_, empty_data = signal_generator([], 0.1, 40000000)\n",
    "_, psd = signal.welch(iq_data, 40000000, 'hamming', psd_len, return_onesided=False, scaling='density', average='median')\n",
    "psd_dB = np.fft.fftshift(10*np.log10((np.abs(psd)/psd.shape[0])**2)) + 150  # small miscalculation I made requiring an offset to correct the graph\n",
    "for i in range(frames):\n",
    "    samples[i] = psd_dB\n",
    "significance_threshold = 0.75 * np.max(samples[0])\n",
    "print(significance_threshold)"
   ]
  },
  {
   "cell_type": "markdown",
   "metadata": {},
   "source": [
    "Generate a single spectogram"
   ]
  },
  {
   "cell_type": "code",
   "execution_count": 16,
   "metadata": {},
   "outputs": [
    {
     "data": {
      "text/plain": [
       "Text(0, 0.5, 'Time [sec]')"
      ]
     },
     "execution_count": 16,
     "metadata": {},
     "output_type": "execute_result"
    },
    {
     "data": {
      "image/png": "[encoded data removed]",
      "text/plain": [
       "<Figure size 432x288 with 1 Axes>"
      ]
     },
     "metadata": {
      "needs_background": "light"
     },
     "output_type": "display_data"
    }
   ],
   "source": [
    "plt.imshow(samples, aspect='auto', extent=[-rxfs/2, rxfs/2, 0, 0.1 * frames])\n",
    "plt.xlabel('Frequency [MHz]')\n",
    "plt.ylabel('Time [sec]')"
   ]
  }
 ],
 "metadata": {
  "kernelspec": {
   "display_name": "Python 3.9.13 64-bit (windows store)",
   "language": "python",
   "name": "python3"
  },
  "language_info": {
   "codemirror_mode": {
    "name": "ipython",
    "version": 3
   },
   "file_extension": ".py",
   "mimetype": "text/x-python",
   "name": "python",
   "nbconvert_exporter": "python",
   "pygments_lexer": "ipython3",
   "version": "3.9.13"
  },
  "orig_nbformat": 4,
  "vscode": {
   "interpreter": {
    "hash": "6d3db21f4100699221456686f8b69621dd6af19ec6270feb2c95ea9a6b552a2f"
   }
  }
 },
 "nbformat": 4,
 "nbformat_minor": 2
}
